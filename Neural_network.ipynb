{
 "cells": [
  {
   "cell_type": "code",
   "execution_count": 1,
   "id": "7ce2a5d6-fdd7-473b-9d85-a9777d18635c",
   "metadata": {},
   "outputs": [],
   "source": [
    "import sys, subprocess, time, warnings\n",
    "warnings.filterwarnings(\"ignore\")\n",
    "import pandas as pd\n",
    "import numpy as np\n",
    "from sklearn.model_selection import train_test_split\n",
    "from sklearn.preprocessing import LabelEncoder, StandardScaler\n",
    "from sklearn.neural_network import MLPClassifier\n",
    "from sklearn.metrics import accuracy_score"
   ]
  },
  {
   "cell_type": "code",
   "execution_count": 2,
   "id": "c4b7b23e-f808-430a-a676-d3ba54100cf8",
   "metadata": {},
   "outputs": [],
   "source": [
    "# ===== Parametry do łatwej zmiany =====\n",
    "data_path   = \"countsAll_fixed_07_07_23.csv\"  # ścieżka do pliku z danymi\n",
    "sep         = \"\\t\"                            # separator (w Twoim pliku jest tab)\n",
    "n_components_pca = 2                          # liczba komponentów PCA = liczba kubitów\n",
    "test_size   = 0.20                            # ułamek danych do testu\n",
    "random_state = 42                             # ziarno losowe\n",
    "maxiter     = 200                             # iteracje optymalizatora\n",
    "entanglement = \"linear\"                       # \"linear\" | \"full\" | lista par\n",
    "reps_feature = 2                              # głębokość feature map\n",
    "reps_ansatz  = 2 "
   ]
  },
  {
   "cell_type": "code",
   "execution_count": 3,
   "id": "574fe717-b2ee-4a5d-9e0c-e89c4c5eaf77",
   "metadata": {},
   "outputs": [
    {
     "name": "stdout",
     "output_type": "stream",
     "text": [
      "Wczytywanie danych...\n"
     ]
    }
   ],
   "source": [
    "# ===== 1) Wczytanie i przygotowanie danych =====\n",
    "print(\"Wczytywanie danych...\")\n",
    "df = pd.read_csv(data_path, sep=sep).T"
   ]
  },
  {
   "cell_type": "code",
   "execution_count": 5,
   "id": "45092552-64e7-4608-8c0f-96bf2cb1c955",
   "metadata": {},
   "outputs": [],
   "source": [
    "metadata = pd.read_csv(\"SampleInfo_fixed_08_07_23.csv\", delimiter=\";\")\n",
    "metadata = metadata.set_index(\"id\")\n",
    "metadata[\"label\"] = metadata[\"GroupAlternative\"].apply(\n",
    "    lambda x: 0 if x == \"Asymptomatic controls\" else 1\n",
    ")\n",
    "metadata = metadata[metadata[\"RealLocation\"] != \"Institute 5\"]\n",
    "df = df.merge(metadata, left_index=True, right_index=True)"
   ]
  },
  {
   "cell_type": "code",
   "execution_count": 6,
   "id": "acc47422-848a-4bbe-987e-7afa8f689fdd",
   "metadata": {},
   "outputs": [],
   "source": [
    "X = df.drop(columns=metadata.columns)\n",
    "y = df[\"label\"]"
   ]
  },
  {
   "cell_type": "code",
   "execution_count": 7,
   "id": "ccc83db5-2c5c-4f07-84c6-1a613e6ef1c8",
   "metadata": {},
   "outputs": [
    {
     "name": "stdout",
     "output_type": "stream",
     "text": [
      "Shape X: (2060, 5346)\n",
      "Shape y: (2060,)\n",
      "Class balance:\n",
      " label\n",
      "1    1706\n",
      "0     354\n",
      "Name: count, dtype: int64\n",
      "Liczba cech (genów): 5346, liczba próbek: 2060\n",
      "Klasy: 0 (zdrowe) = 354, 1 (nowotworowe) = 1706\n"
     ]
    }
   ],
   "source": [
    "print(\"Shape X:\", X.shape)\n",
    "print(\"Shape y:\", y.shape)\n",
    "print(\"Class balance:\\n\", y.value_counts())\n",
    "print(f\"Liczba cech (genów): {X.shape[1]}, liczba próbek: {X.shape[0]}\")\n",
    "print(f\"Klasy: 0 (zdrowe) = {(y==0).sum()}, 1 (nowotworowe) = {(y==1).sum()}\")"
   ]
  },
  {
   "cell_type": "code",
   "execution_count": 8,
   "id": "29edf712-33b0-4207-b104-5f35d7b159d5",
   "metadata": {},
   "outputs": [],
   "source": [
    "X_train, X_test, y_train, y_test = train_test_split(\n",
    "    X, y, test_size=0.2, random_state=42\n",
    ")"
   ]
  },
  {
   "cell_type": "code",
   "execution_count": 9,
   "id": "c59b2f5c-f81e-4414-b471-55870f679466",
   "metadata": {},
   "outputs": [],
   "source": [
    "mlp = MLPClassifier(\n",
    "    hidden_layer_sizes=(50, 30),  # 2 warstwy ukryte (50 i 30 neuronów)\n",
    "    activation='relu',\n",
    "    solver='adam',\n",
    "    max_iter=300,\n",
    "    random_state=42\n",
    ")"
   ]
  },
  {
   "cell_type": "code",
   "execution_count": 10,
   "id": "17a11b94-8693-42c8-afff-9ffc65789568",
   "metadata": {},
   "outputs": [],
   "source": [
    "#Trenowanie modelu z pomiarem czasu\n",
    "start_time = time.time()\n",
    "mlp.fit(X_train, y_train)\n",
    "training_time = time.time() - start_time"
   ]
  },
  {
   "cell_type": "code",
   "execution_count": 11,
   "id": "3640740f-d71c-4add-94cf-f5a32ebc1766",
   "metadata": {},
   "outputs": [],
   "source": [
    "# 5. Predykcja i ocena\n",
    "y_pred = mlp.predict(X_test)\n",
    "accuracy = accuracy_score(y_test, y_pred)"
   ]
  },
  {
   "cell_type": "code",
   "execution_count": 12,
   "id": "176aba11-c877-454c-b639-3925f3dcd29f",
   "metadata": {},
   "outputs": [
    {
     "name": "stdout",
     "output_type": "stream",
     "text": [
      "Dokładność (accuracy): 0.8617\n",
      "Czas trenowania: 36.83 s\n"
     ]
    }
   ],
   "source": [
    "# 6. Wyniki\n",
    "print(f\"Dokładność (accuracy): {accuracy:.4f}\")\n",
    "print(f\"Czas trenowania: {training_time:.2f} s\")"
   ]
  },
  {
   "cell_type": "code",
   "execution_count": null,
   "id": "1c3a4f88-9db6-464d-aa9a-f218a4626a05",
   "metadata": {},
   "outputs": [],
   "source": []
  }
 ],
 "metadata": {
  "kernelspec": {
   "display_name": "Python 3 (ipykernel)",
   "language": "python",
   "name": "python3"
  },
  "language_info": {
   "codemirror_mode": {
    "name": "ipython",
    "version": 3
   },
   "file_extension": ".py",
   "mimetype": "text/x-python",
   "name": "python",
   "nbconvert_exporter": "python",
   "pygments_lexer": "ipython3",
   "version": "3.13.5"
  }
 },
 "nbformat": 4,
 "nbformat_minor": 5
}
