{
 "cells": [
  {
   "cell_type": "code",
   "execution_count": 10,
   "id": "e7971492-1d2d-47f7-b114-aa96abbe531c",
   "metadata": {},
   "outputs": [],
   "source": [
    "import sys, subprocess, time, warnings\n",
    "warnings.filterwarnings(\"ignore\")\n",
    "import numpy as np\n",
    "import pandas as pd\n",
    "from sklearn.model_selection import train_test_split\n",
    "from sklearn.preprocessing import StandardScaler\n",
    "from sklearn.decomposition import PCA\n",
    "from sklearn.metrics import accuracy_score\n",
    "from sklearn.linear_model import LogisticRegression\n",
    "\n",
    "from qiskit.circuit.library import ZZFeatureMap, TwoLocal\n",
    "from qiskit_aer.primitives import Estimator\n",
    "from qiskit_machine_learning.neural_networks import EstimatorQNN\n",
    "from qiskit_machine_learning.algorithms.classifiers import NeuralNetworkClassifier, VQC\n",
    "from qiskit_machine_learning.optimizers import COBYLA"
   ]
  },
  {
   "cell_type": "code",
   "execution_count": 11,
   "id": "4161bf98-42bb-4efd-aa53-c8b8284cd24b",
   "metadata": {},
   "outputs": [],
   "source": [
    "# ===== Parametry do łatwej zmiany =====\n",
    "data_path   = \"countsAll_fixed_07_07_23.csv\"  # ścieżka do pliku z danymi\n",
    "sep         = \"\\t\"                            # separator (w Twoim pliku jest tab)\n",
    "n_components_pca = 4                          # liczba komponentów PCA = liczba kubitów\n",
    "test_size   = 0.20                            # ułamek danych do testu\n",
    "random_state = 42                             # ziarno losowe\n",
    "maxiter     = 200                             # iteracje optymalizatora\n",
    "entanglement = \"linear\"                       # \"linear\" | \"full\" | lista par\n",
    "reps_feature = 2                              # głębokość feature map\n",
    "reps_ansatz  = 2  "
   ]
  },
  {
   "cell_type": "code",
   "execution_count": 12,
   "id": "72d86720-a169-49c6-b177-9b313c609668",
   "metadata": {},
   "outputs": [
    {
     "name": "stdout",
     "output_type": "stream",
     "text": [
      "Wczytywanie danych...\n"
     ]
    }
   ],
   "source": [
    "# ===== 1) Wczytanie i przygotowanie danych =====\n",
    "print(\"Wczytywanie danych...\")\n",
    "df = pd.read_csv(data_path, sep=sep)"
   ]
  },
  {
   "cell_type": "code",
   "execution_count": 13,
   "id": "c95dc6d7-0d84-47a3-80d1-950212456cc4",
   "metadata": {},
   "outputs": [],
   "source": [
    "def infer_labels_from_columns(columns):\n",
    "    \"\"\"\n",
    "    Etykieta 0: próbki zdrowe (zawierają '-HD-' w nazwie),\n",
    "    Etykieta 1: próbki z RNA nowotworowym (pozostałe).\n",
    "    \"\"\"\n",
    "    return np.array([0 if \"-HD-\" in c else 1 for c in columns], dtype=int)"
   ]
  },
  {
   "cell_type": "code",
   "execution_count": 14,
   "id": "97004daa-8a17-4a00-b7f4-58a0ac7e0773",
   "metadata": {},
   "outputs": [
    {
     "name": "stdout",
     "output_type": "stream",
     "text": [
      "Liczba cech (genów): 5346, liczba próbek: 2351\n",
      "Klasy: 0 (zdrowe) = 280, 1 (nowotworowe) = 2071\n"
     ]
    }
   ],
   "source": [
    "# Wiersze = geny, kolumny = próbki; transpozycja => próbki x geny\n",
    "X = df.T\n",
    "y = infer_labels_from_columns(X.index.tolist())\n",
    "\n",
    "print(f\"Liczba cech (genów): {X.shape[1]}, liczba próbek: {X.shape[0]}\")\n",
    "print(f\"Klasy: 0 (zdrowe) = {(y==0).sum()}, 1 (nowotworowe) = {(y==1).sum()}\")"
   ]
  },
  {
   "cell_type": "code",
   "execution_count": 15,
   "id": "57d5b2ac-3d43-4413-a27b-f15b0b4beea0",
   "metadata": {},
   "outputs": [],
   "source": [
    "# ===== 2) Podział na zbiory uczący i testowy =====\n",
    "X_train, X_test, y_train, y_test = train_test_split(\n",
    "    X, y, test_size=test_size, random_state=random_state, stratify=y\n",
    ")"
   ]
  },
  {
   "cell_type": "code",
   "execution_count": 16,
   "id": "7384a968-22b7-4586-a460-415d75df45d8",
   "metadata": {},
   "outputs": [
    {
     "name": "stdout",
     "output_type": "stream",
     "text": [
      "Po PCA: X_train = (1880, 4), X_test = (471, 4)\n"
     ]
    }
   ],
   "source": [
    "# ===== 3) Standaryzacja + PCA (dopasowana na zbiorze uczącym) =====\n",
    "scaler = StandardScaler()\n",
    "X_train_std = scaler.fit_transform(X_train)\n",
    "X_test_std  = scaler.transform(X_test)\n",
    "\n",
    "pca = PCA(n_components=n_components_pca, random_state=random_state)\n",
    "X_train_pca = pca.fit_transform(X_train_std)\n",
    "X_test_pca  = pca.transform(X_test_std)\n",
    "\n",
    "print(f\"Po PCA: X_train = {X_train_pca.shape}, X_test = {X_test_pca.shape}\")"
   ]
  },
  {
   "cell_type": "code",
   "execution_count": 20,
   "id": "30e71a78-34f4-4a15-8256-1ef6e3f2f6bf",
   "metadata": {},
   "outputs": [],
   "source": [
    "# ===== 4) Budowa VQC =====\n",
    "feature_map = ZZFeatureMap(feature_dimension=n_components_pca, reps=reps_feature)\n",
    "ansatz      = TwoLocal(\n",
    "    n_components_pca,\n",
    "    rotation_blocks=[\"ry\", \"rz\"],\n",
    "    entanglement_blocks=\"cz\",\n",
    "    entanglement=entanglement,\n",
    "    reps=reps_ansatz,\n",
    ")\n",
    "\n",
    "optimizer = COBYLA(maxiter=maxiter)\n",
    "\n",
    "vqc = VQC(\n",
    "    feature_map=feature_map,\n",
    "    ansatz=ansatz,\n",
    "    optimizer=optimizer,\n",
    ")"
   ]
  },
  {
   "cell_type": "code",
   "execution_count": null,
   "id": "531265a1-5d6e-4174-8ed7-62623a0bddb3",
   "metadata": {},
   "outputs": [
    {
     "name": "stdout",
     "output_type": "stream",
     "text": [
      "\n",
      "Trening VQC...\n"
     ]
    }
   ],
   "source": [
    "# ===== 5) Trening =====\n",
    "print(\"\\nTrening VQC...\")\n",
    "vqc.fit(X_train_pca, y_train)"
   ]
  },
  {
   "cell_type": "code",
   "execution_count": null,
   "id": "d4c85d5b-620e-4dae-93ae-616dbc39a58e",
   "metadata": {},
   "outputs": [],
   "source": [
    "# ===== 6) Ewaluacja =====\n",
    "y_pred = vqc.predict(X_test_pca)\n",
    "acc = accuracy_score(y_test, y_pred)\n",
    "\n",
    "print(\"\\n=== Wyniki ===\")\n",
    "print(f\"Dokładność na zbiorze testowym: {acc:.4f}\")"
   ]
  },
  {
   "cell_type": "code",
   "execution_count": null,
   "id": "0fc8afee-6765-401f-b81a-0ef0dfc6713d",
   "metadata": {},
   "outputs": [],
   "source": []
  }
 ],
 "metadata": {
  "kernelspec": {
   "display_name": "Python 3 [Default]",
   "language": "python",
   "name": "python3"
  },
  "language_info": {
   "codemirror_mode": {
    "name": "ipython",
    "version": 3
   },
   "file_extension": ".py",
   "mimetype": "text/x-python",
   "name": "python",
   "nbconvert_exporter": "python",
   "pygments_lexer": "ipython3",
   "version": "3.11.9"
  }
 },
 "nbformat": 4,
 "nbformat_minor": 5
}
