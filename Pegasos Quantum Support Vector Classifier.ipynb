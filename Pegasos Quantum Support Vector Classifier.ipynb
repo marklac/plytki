{
 "cells": [
  {
   "cell_type": "code",
   "execution_count": 11,
   "id": "24f0757c-4d72-4565-8fae-182666dbf8cc",
   "metadata": {},
   "outputs": [],
   "source": [
    "import sys, subprocess, time, warnings\n",
    "warnings.filterwarnings(\"ignore\")\n",
    "import numpy as np\n",
    "import pandas as pd\n",
    "from sklearn.model_selection import train_test_split\n",
    "from sklearn.preprocessing import StandardScaler, MinMaxScaler\n",
    "from sklearn.decomposition import PCA\n",
    "from sklearn.metrics import accuracy_score\n",
    "from sklearn.linear_model import LogisticRegression\n",
    "from sklearn.metrics.pairwise import rbf_kernel\n",
    "\n",
    "from qiskit.circuit.library import ZZFeatureMap, TwoLocal, ZFeatureMap\n",
    "from qiskit_aer.primitives import Estimator\n",
    "from qiskit_machine_learning.neural_networks import EstimatorQNN\n",
    "from qiskit_machine_learning.algorithms.classifiers import PegasosQSVC\n",
    "from qiskit_machine_learning.optimizers import COBYLA\n",
    "from qiskit_machine_learning.kernels import FidelityQuantumKernel\n",
    "from qiskit_machine_learning.utils import algorithm_globals\n",
    "from qiskit.primitives import Sampler\n",
    "from qiskit_machine_learning.state_fidelities import ComputeUncompute"
   ]
  },
  {
   "cell_type": "code",
   "execution_count": 2,
   "id": "1838c7a3-4b31-4cee-a786-2cbba4fd92c9",
   "metadata": {},
   "outputs": [],
   "source": [
    "# 1. Wczytanie plików i przygotowanie etykiet\n",
    "counts = pd.read_csv(\"countsAll_fixed_07_07_23.csv\", delimiter=\"\\t\").T\n",
    "metadata = pd.read_csv(\"SampleInfo_fixed_08_07_23.csv\", delimiter=\";\").set_index(\"id\")\n",
    "metadata[\"label\"] = metadata[\"GroupAlternative\"].apply(lambda x: 0 if x == \"Asymptomatic controls\" else 1)\n",
    "metadata = metadata[metadata[\"RealLocation\"] != \"Institute 5\"]"
   ]
  },
  {
   "cell_type": "code",
   "execution_count": 3,
   "id": "f95293e7-ebdd-4e9b-845d-f20bc5c6f551",
   "metadata": {},
   "outputs": [],
   "source": [
    "# 2. Scalanie\n",
    "df = counts.merge(metadata, left_index=True, right_index=True)\n",
    "X = df.drop(columns=metadata.columns)\n",
    "y = df[\"label\"]"
   ]
  },
  {
   "cell_type": "code",
   "execution_count": 4,
   "id": "6a0415b0-77d8-43da-a326-f83541935a3d",
   "metadata": {},
   "outputs": [],
   "source": [
    "# 3. Train/test split\n",
    "X_train, X_test, y_train, y_test = train_test_split(\n",
    "    X.values, y.values, train_size=0.7, random_state=42, shuffle=True\n",
    ")"
   ]
  },
  {
   "cell_type": "code",
   "execution_count": 5,
   "id": "5ff11f29-64cd-4585-bf0f-3909d7075b2d",
   "metadata": {},
   "outputs": [],
   "source": [
    "# 3. PCA redukcja do kilku qubitów (np. 4)\n",
    "pca = PCA(n_components=2, random_state=42)\n",
    "X_train_pca = pca.fit_transform(X_train)\n",
    "X_test_pca = pca.transform(X_test)"
   ]
  },
  {
   "cell_type": "code",
   "execution_count": 6,
   "id": "007342dd-4b57-4b00-82c4-ea691c165682",
   "metadata": {},
   "outputs": [],
   "source": [
    "# 4. Skalowanie danych do przedziału [0, π]\n",
    "scaler = MinMaxScaler(feature_range=(0, np.pi))\n",
    "X_train_scaled = scaler.fit_transform(X_train)\n",
    "X_test_scaled = scaler.transform(X_test)"
   ]
  },
  {
   "cell_type": "code",
   "execution_count": 7,
   "id": "318fdef4-c3fc-4c29-b1ae-bf760c8d120f",
   "metadata": {},
   "outputs": [],
   "source": [
    "# 5. Konfiguracja parametrów PegasosQSVC\n",
    "num_qubits = X_train_scaled.shape[1]\n",
    "tau = 100\n",
    "C = 1000\n",
    "\n",
    "algorithm_globals.random_seed = 12345\n",
    "feature_map = ZFeatureMap(feature_dimension=num_qubits, reps=1)\n",
    "sampler = Sampler()\n",
    "fidelity = ComputeUncompute(sampler=sampler)\n",
    "qkernel = FidelityQuantumKernel(feature_map=feature_map, fidelity=fidelity)\n",
    "\n",
    "pegasos = PegasosQSVC(quantum_kernel=qkernel, C=C, num_steps=tau)"
   ]
  },
  {
   "cell_type": "code",
   "execution_count": 8,
   "id": "fefeec47-cf28-4d3f-a4e1-40bab526da12",
   "metadata": {},
   "outputs": [
    {
     "ename": "AlgorithmError",
     "evalue": "'Sampler job failed!'",
     "output_type": "error",
     "traceback": [
      "\u001b[1;31m---------------------------------------------------------------------------\u001b[0m",
      "\u001b[1;31mValueError\u001b[0m                                Traceback (most recent call last)",
      "File \u001b[1;32m~\\anaconda3\\Lib\\site-packages\\qiskit_machine_learning\\state_fidelities\\compute_uncompute.py:222\u001b[0m, in \u001b[0;36mComputeUncompute._call\u001b[1;34m(job, circuits, local, local_opts, _sampler, _post_process_v2, num_virtual_qubits)\u001b[0m\n\u001b[0;32m    221\u001b[0m \u001b[38;5;28;01mtry\u001b[39;00m:\n\u001b[1;32m--> 222\u001b[0m     result \u001b[38;5;241m=\u001b[39m job\u001b[38;5;241m.\u001b[39mresult()\n\u001b[0;32m    223\u001b[0m \u001b[38;5;28;01mexcept\u001b[39;00m \u001b[38;5;167;01mException\u001b[39;00m \u001b[38;5;28;01mas\u001b[39;00m exc:\n",
      "File \u001b[1;32m~\\anaconda3\\Lib\\site-packages\\qiskit\\primitives\\primitive_job.py:51\u001b[0m, in \u001b[0;36mPrimitiveJob.result\u001b[1;34m(self)\u001b[0m\n\u001b[0;32m     50\u001b[0m \u001b[38;5;28mself\u001b[39m\u001b[38;5;241m.\u001b[39m_check_submitted()\n\u001b[1;32m---> 51\u001b[0m \u001b[38;5;28;01mreturn\u001b[39;00m \u001b[38;5;28mself\u001b[39m\u001b[38;5;241m.\u001b[39m_future\u001b[38;5;241m.\u001b[39mresult()\n",
      "File \u001b[1;32m~\\anaconda3\\Lib\\concurrent\\futures\\_base.py:456\u001b[0m, in \u001b[0;36mFuture.result\u001b[1;34m(self, timeout)\u001b[0m\n\u001b[0;32m    455\u001b[0m \u001b[38;5;28;01melif\u001b[39;00m \u001b[38;5;28mself\u001b[39m\u001b[38;5;241m.\u001b[39m_state \u001b[38;5;241m==\u001b[39m FINISHED:\n\u001b[1;32m--> 456\u001b[0m     \u001b[38;5;28;01mreturn\u001b[39;00m \u001b[38;5;28mself\u001b[39m\u001b[38;5;241m.\u001b[39m__get_result()\n\u001b[0;32m    457\u001b[0m \u001b[38;5;28;01melse\u001b[39;00m:\n",
      "File \u001b[1;32m~\\anaconda3\\Lib\\concurrent\\futures\\_base.py:401\u001b[0m, in \u001b[0;36mFuture.__get_result\u001b[1;34m(self)\u001b[0m\n\u001b[0;32m    400\u001b[0m \u001b[38;5;28;01mtry\u001b[39;00m:\n\u001b[1;32m--> 401\u001b[0m     \u001b[38;5;28;01mraise\u001b[39;00m \u001b[38;5;28mself\u001b[39m\u001b[38;5;241m.\u001b[39m_exception\n\u001b[0;32m    402\u001b[0m \u001b[38;5;28;01mfinally\u001b[39;00m:\n\u001b[0;32m    403\u001b[0m     \u001b[38;5;66;03m# Break a reference cycle with the exception in self._exception\u001b[39;00m\n",
      "File \u001b[1;32m~\\anaconda3\\Lib\\concurrent\\futures\\thread.py:59\u001b[0m, in \u001b[0;36m_WorkItem.run\u001b[1;34m(self)\u001b[0m\n\u001b[0;32m     58\u001b[0m \u001b[38;5;28;01mtry\u001b[39;00m:\n\u001b[1;32m---> 59\u001b[0m     result \u001b[38;5;241m=\u001b[39m \u001b[38;5;28mself\u001b[39m\u001b[38;5;241m.\u001b[39mfn(\u001b[38;5;241m*\u001b[39m\u001b[38;5;28mself\u001b[39m\u001b[38;5;241m.\u001b[39margs, \u001b[38;5;241m*\u001b[39m\u001b[38;5;241m*\u001b[39m\u001b[38;5;28mself\u001b[39m\u001b[38;5;241m.\u001b[39mkwargs)\n\u001b[0;32m     60\u001b[0m \u001b[38;5;28;01mexcept\u001b[39;00m \u001b[38;5;167;01mBaseException\u001b[39;00m \u001b[38;5;28;01mas\u001b[39;00m exc:\n",
      "File \u001b[1;32m~\\anaconda3\\Lib\\site-packages\\qiskit\\primitives\\sampler.py:109\u001b[0m, in \u001b[0;36mSampler._call\u001b[1;34m(self, circuits, parameter_values, **run_options)\u001b[0m\n\u001b[0;32m    107\u001b[0m     qargs_list\u001b[38;5;241m.\u001b[39mappend(\u001b[38;5;28mself\u001b[39m\u001b[38;5;241m.\u001b[39m_qargs_list[i])\n\u001b[0;32m    108\u001b[0m probabilities \u001b[38;5;241m=\u001b[39m [\n\u001b[1;32m--> 109\u001b[0m     Statevector(bound_circuit_to_instruction(circ))\u001b[38;5;241m.\u001b[39mprobabilities_dict(\n\u001b[0;32m    110\u001b[0m         qargs\u001b[38;5;241m=\u001b[39mqargs, decimals\u001b[38;5;241m=\u001b[39m\u001b[38;5;241m16\u001b[39m\n\u001b[0;32m    111\u001b[0m     )\n\u001b[0;32m    112\u001b[0m     \u001b[38;5;28;01mfor\u001b[39;00m circ, qargs \u001b[38;5;129;01min\u001b[39;00m \u001b[38;5;28mzip\u001b[39m(bound_circuits, qargs_list)\n\u001b[0;32m    113\u001b[0m ]\n\u001b[0;32m    114\u001b[0m \u001b[38;5;28;01mif\u001b[39;00m shots \u001b[38;5;129;01mis\u001b[39;00m \u001b[38;5;129;01mnot\u001b[39;00m \u001b[38;5;28;01mNone\u001b[39;00m:\n",
      "File \u001b[1;32m~\\anaconda3\\Lib\\site-packages\\qiskit\\quantum_info\\states\\statevector.py:101\u001b[0m, in \u001b[0;36mStatevector.__init__\u001b[1;34m(self, data, dims)\u001b[0m\n\u001b[0;32m    100\u001b[0m \u001b[38;5;28;01melif\u001b[39;00m \u001b[38;5;28misinstance\u001b[39m(data, (QuantumCircuit, Instruction)):\n\u001b[1;32m--> 101\u001b[0m     \u001b[38;5;28mself\u001b[39m\u001b[38;5;241m.\u001b[39m_data \u001b[38;5;241m=\u001b[39m Statevector\u001b[38;5;241m.\u001b[39mfrom_instruction(data)\u001b[38;5;241m.\u001b[39mdata\n\u001b[0;32m    102\u001b[0m \u001b[38;5;28;01melse\u001b[39;00m:\n",
      "File \u001b[1;32m~\\anaconda3\\Lib\\site-packages\\qiskit\\quantum_info\\states\\statevector.py:773\u001b[0m, in \u001b[0;36mStatevector.from_instruction\u001b[1;34m(cls, instruction)\u001b[0m\n\u001b[0;32m    772\u001b[0m \u001b[38;5;66;03m# Initialize an the statevector in the all |0> state\u001b[39;00m\n\u001b[1;32m--> 773\u001b[0m init \u001b[38;5;241m=\u001b[39m np\u001b[38;5;241m.\u001b[39mzeros(\u001b[38;5;241m2\u001b[39m\u001b[38;5;241m*\u001b[39m\u001b[38;5;241m*\u001b[39minstruction\u001b[38;5;241m.\u001b[39mnum_qubits, dtype\u001b[38;5;241m=\u001b[39m\u001b[38;5;28mcomplex\u001b[39m)\n\u001b[0;32m    774\u001b[0m init[\u001b[38;5;241m0\u001b[39m] \u001b[38;5;241m=\u001b[39m \u001b[38;5;241m1.0\u001b[39m\n",
      "\u001b[1;31mValueError\u001b[0m: Maximum allowed dimension exceeded",
      "\nThe above exception was the direct cause of the following exception:\n",
      "\u001b[1;31mAlgorithmError\u001b[0m                            Traceback (most recent call last)",
      "Cell \u001b[1;32mIn[8], line 3\u001b[0m\n\u001b[0;32m      1\u001b[0m \u001b[38;5;66;03m# 6. Trening i ewaluacja\u001b[39;00m\n\u001b[0;32m      2\u001b[0m t0 \u001b[38;5;241m=\u001b[39m time\u001b[38;5;241m.\u001b[39mtime()\n\u001b[1;32m----> 3\u001b[0m pegasos\u001b[38;5;241m.\u001b[39mfit(X_train_scaled, y_train)\n\u001b[0;32m      4\u001b[0m train_time \u001b[38;5;241m=\u001b[39m time\u001b[38;5;241m.\u001b[39mtime() \u001b[38;5;241m-\u001b[39m t0\n\u001b[0;32m      6\u001b[0m score_train \u001b[38;5;241m=\u001b[39m pegasos\u001b[38;5;241m.\u001b[39mscore(X_train_scaled, y_train)\n",
      "File \u001b[1;32m~\\anaconda3\\Lib\\site-packages\\qiskit_machine_learning\\algorithms\\classifiers\\pegasos_qsvc.py:198\u001b[0m, in \u001b[0;36mPegasosQSVC.fit\u001b[1;34m(self, X, y, sample_weight)\u001b[0m\n\u001b[0;32m    194\u001b[0m \u001b[38;5;28;01mfor\u001b[39;00m step \u001b[38;5;129;01min\u001b[39;00m \u001b[38;5;28mrange\u001b[39m(\u001b[38;5;241m1\u001b[39m, \u001b[38;5;28mself\u001b[39m\u001b[38;5;241m.\u001b[39m_num_steps \u001b[38;5;241m+\u001b[39m \u001b[38;5;241m1\u001b[39m):\n\u001b[0;32m    195\u001b[0m     \u001b[38;5;66;03m# for every step, a random index (determining a random datum) is fixed\u001b[39;00m\n\u001b[0;32m    196\u001b[0m     i \u001b[38;5;241m=\u001b[39m \u001b[38;5;28mint\u001b[39m(algorithm_globals\u001b[38;5;241m.\u001b[39mrandom\u001b[38;5;241m.\u001b[39mintegers(\u001b[38;5;241m0\u001b[39m, \u001b[38;5;28mlen\u001b[39m(y)))\n\u001b[1;32m--> 198\u001b[0m     value \u001b[38;5;241m=\u001b[39m \u001b[38;5;28mself\u001b[39m\u001b[38;5;241m.\u001b[39m_compute_weighted_kernel_sum(i, X, training\u001b[38;5;241m=\u001b[39m\u001b[38;5;28;01mTrue\u001b[39;00m)\n\u001b[0;32m    200\u001b[0m     \u001b[38;5;28;01mif\u001b[39;00m (\u001b[38;5;28mself\u001b[39m\u001b[38;5;241m.\u001b[39m_label_map[y[i]] \u001b[38;5;241m*\u001b[39m \u001b[38;5;28mself\u001b[39m\u001b[38;5;241m.\u001b[39mC \u001b[38;5;241m/\u001b[39m step) \u001b[38;5;241m*\u001b[39m value \u001b[38;5;241m<\u001b[39m \u001b[38;5;241m1\u001b[39m:\n\u001b[0;32m    201\u001b[0m         \u001b[38;5;66;03m# only way for a component of alpha to become non zero\u001b[39;00m\n\u001b[0;32m    202\u001b[0m         \u001b[38;5;28mself\u001b[39m\u001b[38;5;241m.\u001b[39m_alphas[i] \u001b[38;5;241m=\u001b[39m \u001b[38;5;28mself\u001b[39m\u001b[38;5;241m.\u001b[39m_alphas\u001b[38;5;241m.\u001b[39mget(i, \u001b[38;5;241m0\u001b[39m) \u001b[38;5;241m+\u001b[39m \u001b[38;5;241m1\u001b[39m\n",
      "File \u001b[1;32m~\\anaconda3\\Lib\\site-packages\\qiskit_machine_learning\\algorithms\\classifiers\\pegasos_qsvc.py:329\u001b[0m, in \u001b[0;36mPegasosQSVC._compute_weighted_kernel_sum\u001b[1;34m(self, index, X, training)\u001b[0m\n\u001b[0;32m    326\u001b[0m     x_supp \u001b[38;5;241m=\u001b[39m \u001b[38;5;28mself\u001b[39m\u001b[38;5;241m.\u001b[39m_x_train[support_indices]\n\u001b[0;32m    327\u001b[0m \u001b[38;5;28;01mif\u001b[39;00m \u001b[38;5;129;01mnot\u001b[39;00m \u001b[38;5;28mself\u001b[39m\u001b[38;5;241m.\u001b[39m_precomputed:\n\u001b[0;32m    328\u001b[0m     \u001b[38;5;66;03m# evaluate kernel function only for the fixed datum and the support vectors\u001b[39;00m\n\u001b[1;32m--> 329\u001b[0m     kernel \u001b[38;5;241m=\u001b[39m \u001b[38;5;28mself\u001b[39m\u001b[38;5;241m.\u001b[39m_quantum_kernel\u001b[38;5;241m.\u001b[39mevaluate(X[index], x_supp) \u001b[38;5;241m+\u001b[39m \u001b[38;5;28mself\u001b[39m\u001b[38;5;241m.\u001b[39m_kernel_offset\n\u001b[0;32m    330\u001b[0m \u001b[38;5;28;01melse\u001b[39;00m:\n\u001b[0;32m    331\u001b[0m     kernel \u001b[38;5;241m=\u001b[39m X[index, support_indices]\n",
      "File \u001b[1;32m~\\anaconda3\\Lib\\site-packages\\qiskit_machine_learning\\kernels\\fidelity_quantum_kernel.py:119\u001b[0m, in \u001b[0;36mFidelityQuantumKernel.evaluate\u001b[1;34m(self, x_vec, y_vec)\u001b[0m\n\u001b[0;32m    117\u001b[0m \u001b[38;5;28;01melse\u001b[39;00m:\n\u001b[0;32m    118\u001b[0m     left_parameters, right_parameters, indices \u001b[38;5;241m=\u001b[39m \u001b[38;5;28mself\u001b[39m\u001b[38;5;241m.\u001b[39m_get_parameterization(x_vec, y_vec)\n\u001b[1;32m--> 119\u001b[0m     kernel_matrix \u001b[38;5;241m=\u001b[39m \u001b[38;5;28mself\u001b[39m\u001b[38;5;241m.\u001b[39m_get_kernel_matrix(\n\u001b[0;32m    120\u001b[0m         kernel_shape, left_parameters, right_parameters, indices\n\u001b[0;32m    121\u001b[0m     )\n\u001b[0;32m    123\u001b[0m \u001b[38;5;28;01mif\u001b[39;00m is_symmetric \u001b[38;5;129;01mand\u001b[39;00m \u001b[38;5;28mself\u001b[39m\u001b[38;5;241m.\u001b[39m_enforce_psd:\n\u001b[0;32m    124\u001b[0m     kernel_matrix \u001b[38;5;241m=\u001b[39m \u001b[38;5;28mself\u001b[39m\u001b[38;5;241m.\u001b[39m_make_psd(kernel_matrix)\n",
      "File \u001b[1;32m~\\anaconda3\\Lib\\site-packages\\qiskit_machine_learning\\kernels\\fidelity_quantum_kernel.py:188\u001b[0m, in \u001b[0;36mFidelityQuantumKernel._get_kernel_matrix\u001b[1;34m(self, kernel_shape, left_parameters, right_parameters, indices)\u001b[0m\n\u001b[0;32m    178\u001b[0m \u001b[38;5;28;01mdef\u001b[39;00m\u001b[38;5;250m \u001b[39m\u001b[38;5;21m_get_kernel_matrix\u001b[39m(\n\u001b[0;32m    179\u001b[0m     \u001b[38;5;28mself\u001b[39m,\n\u001b[0;32m    180\u001b[0m     kernel_shape: \u001b[38;5;28mtuple\u001b[39m[\u001b[38;5;28mint\u001b[39m, \u001b[38;5;28mint\u001b[39m],\n\u001b[1;32m   (...)\u001b[0m\n\u001b[0;32m    183\u001b[0m     indices: KernelIndices,\n\u001b[0;32m    184\u001b[0m ) \u001b[38;5;241m-\u001b[39m\u001b[38;5;241m>\u001b[39m np\u001b[38;5;241m.\u001b[39mndarray:\n\u001b[0;32m    185\u001b[0m \u001b[38;5;250m    \u001b[39m\u001b[38;5;124;03m\"\"\"\u001b[39;00m\n\u001b[0;32m    186\u001b[0m \u001b[38;5;124;03m    Given a parameterization, this computes the symmetric kernel matrix.\u001b[39;00m\n\u001b[0;32m    187\u001b[0m \u001b[38;5;124;03m    \"\"\"\u001b[39;00m\n\u001b[1;32m--> 188\u001b[0m     kernel_entries \u001b[38;5;241m=\u001b[39m \u001b[38;5;28mself\u001b[39m\u001b[38;5;241m.\u001b[39m_get_kernel_entries(left_parameters, right_parameters)\n\u001b[0;32m    190\u001b[0m     \u001b[38;5;66;03m# fill in trivial entries and then update with fidelity values\u001b[39;00m\n\u001b[0;32m    191\u001b[0m     kernel_matrix \u001b[38;5;241m=\u001b[39m np\u001b[38;5;241m.\u001b[39mones(kernel_shape)\n",
      "File \u001b[1;32m~\\anaconda3\\Lib\\site-packages\\qiskit_machine_learning\\kernels\\fidelity_quantum_kernel.py:235\u001b[0m, in \u001b[0;36mFidelityQuantumKernel._get_kernel_entries\u001b[1;34m(self, left_parameters, right_parameters)\u001b[0m\n\u001b[0;32m    228\u001b[0m \u001b[38;5;28;01mif\u001b[39;00m \u001b[38;5;28mself\u001b[39m\u001b[38;5;241m.\u001b[39mmax_circuits_per_job \u001b[38;5;129;01mis\u001b[39;00m \u001b[38;5;28;01mNone\u001b[39;00m:\n\u001b[0;32m    229\u001b[0m     job \u001b[38;5;241m=\u001b[39m \u001b[38;5;28mself\u001b[39m\u001b[38;5;241m.\u001b[39m_fidelity\u001b[38;5;241m.\u001b[39mrun(\n\u001b[0;32m    230\u001b[0m         [\u001b[38;5;28mself\u001b[39m\u001b[38;5;241m.\u001b[39m_feature_map] \u001b[38;5;241m*\u001b[39m num_circuits,\n\u001b[0;32m    231\u001b[0m         [\u001b[38;5;28mself\u001b[39m\u001b[38;5;241m.\u001b[39m_feature_map] \u001b[38;5;241m*\u001b[39m num_circuits,\n\u001b[0;32m    232\u001b[0m         left_parameters,  \u001b[38;5;66;03m# type: ignore[arg-type]\u001b[39;00m\n\u001b[0;32m    233\u001b[0m         right_parameters,  \u001b[38;5;66;03m# type: ignore[arg-type]\u001b[39;00m\n\u001b[0;32m    234\u001b[0m     )\n\u001b[1;32m--> 235\u001b[0m     kernel_entries \u001b[38;5;241m=\u001b[39m job\u001b[38;5;241m.\u001b[39mresult()\u001b[38;5;241m.\u001b[39mfidelities\n\u001b[0;32m    236\u001b[0m \u001b[38;5;28;01melse\u001b[39;00m:\n\u001b[0;32m    237\u001b[0m     \u001b[38;5;66;03m# Determine the number of chunks needed\u001b[39;00m\n\u001b[0;32m    238\u001b[0m     num_chunks \u001b[38;5;241m=\u001b[39m (\n\u001b[0;32m    239\u001b[0m         num_circuits \u001b[38;5;241m+\u001b[39m \u001b[38;5;28mself\u001b[39m\u001b[38;5;241m.\u001b[39mmax_circuits_per_job \u001b[38;5;241m-\u001b[39m \u001b[38;5;241m1\u001b[39m\n\u001b[0;32m    240\u001b[0m     ) \u001b[38;5;241m/\u001b[39m\u001b[38;5;241m/\u001b[39m \u001b[38;5;28mself\u001b[39m\u001b[38;5;241m.\u001b[39mmax_circuits_per_job\n",
      "File \u001b[1;32m~\\anaconda3\\Lib\\site-packages\\qiskit\\primitives\\primitive_job.py:51\u001b[0m, in \u001b[0;36mPrimitiveJob.result\u001b[1;34m(self)\u001b[0m\n\u001b[0;32m     49\u001b[0m \u001b[38;5;28;01mdef\u001b[39;00m\u001b[38;5;250m \u001b[39m\u001b[38;5;21mresult\u001b[39m(\u001b[38;5;28mself\u001b[39m) \u001b[38;5;241m-\u001b[39m\u001b[38;5;241m>\u001b[39m ResultT:\n\u001b[0;32m     50\u001b[0m     \u001b[38;5;28mself\u001b[39m\u001b[38;5;241m.\u001b[39m_check_submitted()\n\u001b[1;32m---> 51\u001b[0m     \u001b[38;5;28;01mreturn\u001b[39;00m \u001b[38;5;28mself\u001b[39m\u001b[38;5;241m.\u001b[39m_future\u001b[38;5;241m.\u001b[39mresult()\n",
      "File \u001b[1;32m~\\anaconda3\\Lib\\concurrent\\futures\\_base.py:456\u001b[0m, in \u001b[0;36mFuture.result\u001b[1;34m(self, timeout)\u001b[0m\n\u001b[0;32m    454\u001b[0m     \u001b[38;5;28;01mraise\u001b[39;00m CancelledError()\n\u001b[0;32m    455\u001b[0m \u001b[38;5;28;01melif\u001b[39;00m \u001b[38;5;28mself\u001b[39m\u001b[38;5;241m.\u001b[39m_state \u001b[38;5;241m==\u001b[39m FINISHED:\n\u001b[1;32m--> 456\u001b[0m     \u001b[38;5;28;01mreturn\u001b[39;00m \u001b[38;5;28mself\u001b[39m\u001b[38;5;241m.\u001b[39m__get_result()\n\u001b[0;32m    457\u001b[0m \u001b[38;5;28;01melse\u001b[39;00m:\n\u001b[0;32m    458\u001b[0m     \u001b[38;5;28;01mraise\u001b[39;00m \u001b[38;5;167;01mTimeoutError\u001b[39;00m()\n",
      "File \u001b[1;32m~\\anaconda3\\Lib\\concurrent\\futures\\_base.py:401\u001b[0m, in \u001b[0;36mFuture.__get_result\u001b[1;34m(self)\u001b[0m\n\u001b[0;32m    399\u001b[0m \u001b[38;5;28;01mif\u001b[39;00m \u001b[38;5;28mself\u001b[39m\u001b[38;5;241m.\u001b[39m_exception \u001b[38;5;129;01mis\u001b[39;00m \u001b[38;5;129;01mnot\u001b[39;00m \u001b[38;5;28;01mNone\u001b[39;00m:\n\u001b[0;32m    400\u001b[0m     \u001b[38;5;28;01mtry\u001b[39;00m:\n\u001b[1;32m--> 401\u001b[0m         \u001b[38;5;28;01mraise\u001b[39;00m \u001b[38;5;28mself\u001b[39m\u001b[38;5;241m.\u001b[39m_exception\n\u001b[0;32m    402\u001b[0m     \u001b[38;5;28;01mfinally\u001b[39;00m:\n\u001b[0;32m    403\u001b[0m         \u001b[38;5;66;03m# Break a reference cycle with the exception in self._exception\u001b[39;00m\n\u001b[0;32m    404\u001b[0m         \u001b[38;5;28mself\u001b[39m \u001b[38;5;241m=\u001b[39m \u001b[38;5;28;01mNone\u001b[39;00m\n",
      "File \u001b[1;32m~\\anaconda3\\Lib\\concurrent\\futures\\thread.py:59\u001b[0m, in \u001b[0;36m_WorkItem.run\u001b[1;34m(self)\u001b[0m\n\u001b[0;32m     56\u001b[0m     \u001b[38;5;28;01mreturn\u001b[39;00m\n\u001b[0;32m     58\u001b[0m \u001b[38;5;28;01mtry\u001b[39;00m:\n\u001b[1;32m---> 59\u001b[0m     result \u001b[38;5;241m=\u001b[39m \u001b[38;5;28mself\u001b[39m\u001b[38;5;241m.\u001b[39mfn(\u001b[38;5;241m*\u001b[39m\u001b[38;5;28mself\u001b[39m\u001b[38;5;241m.\u001b[39margs, \u001b[38;5;241m*\u001b[39m\u001b[38;5;241m*\u001b[39m\u001b[38;5;28mself\u001b[39m\u001b[38;5;241m.\u001b[39mkwargs)\n\u001b[0;32m     60\u001b[0m \u001b[38;5;28;01mexcept\u001b[39;00m \u001b[38;5;167;01mBaseException\u001b[39;00m \u001b[38;5;28;01mas\u001b[39;00m exc:\n\u001b[0;32m     61\u001b[0m     \u001b[38;5;28mself\u001b[39m\u001b[38;5;241m.\u001b[39mfuture\u001b[38;5;241m.\u001b[39mset_exception(exc)\n",
      "File \u001b[1;32m~\\anaconda3\\Lib\\site-packages\\qiskit_machine_learning\\state_fidelities\\compute_uncompute.py:224\u001b[0m, in \u001b[0;36mComputeUncompute._call\u001b[1;34m(job, circuits, local, local_opts, _sampler, _post_process_v2, num_virtual_qubits)\u001b[0m\n\u001b[0;32m    222\u001b[0m     result \u001b[38;5;241m=\u001b[39m job\u001b[38;5;241m.\u001b[39mresult()\n\u001b[0;32m    223\u001b[0m \u001b[38;5;28;01mexcept\u001b[39;00m \u001b[38;5;167;01mException\u001b[39;00m \u001b[38;5;28;01mas\u001b[39;00m exc:\n\u001b[1;32m--> 224\u001b[0m     \u001b[38;5;28;01mraise\u001b[39;00m AlgorithmError(\u001b[38;5;124m\"\u001b[39m\u001b[38;5;124mSampler job failed!\u001b[39m\u001b[38;5;124m\"\u001b[39m) \u001b[38;5;28;01mfrom\u001b[39;00m\u001b[38;5;250m \u001b[39m\u001b[38;5;21;01mexc\u001b[39;00m\n\u001b[0;32m    226\u001b[0m \u001b[38;5;28;01mif\u001b[39;00m \u001b[38;5;28misinstance\u001b[39m(_sampler, BaseSamplerV1):\n\u001b[0;32m    227\u001b[0m     quasi_dists \u001b[38;5;241m=\u001b[39m result\u001b[38;5;241m.\u001b[39mquasi_dists\n",
      "\u001b[1;31mAlgorithmError\u001b[0m: 'Sampler job failed!'"
     ]
    }
   ],
   "source": [
    "# 6. Trening i ewaluacja\n",
    "t0 = time.time()\n",
    "pegasos.fit(X_train_scaled, y_train)\n",
    "train_time = time.time() - t0\n",
    "\n",
    "score_train = pegasos.score(X_train_scaled, y_train)\n",
    "score_test = pegasos.score(X_test_scaled, y_test)\n",
    "\n",
    "print(f\"Training time: {train_time:.2f} s\")\n",
    "print(f\"Train accuracy: {score_train:.3f}\")\n",
    "print(f\"Test accuracy: {score_test:.3f}\")"
   ]
  },
  {
   "cell_type": "code",
   "execution_count": 9,
   "id": "545ecf10-665b-4bab-b315-3211acb68dd0",
   "metadata": {},
   "outputs": [],
   "source": [
    "X_train_sub = X_train_scaled[:200]\n",
    "y_train_sub = y_train[:200]"
   ]
  },
  {
   "cell_type": "code",
   "execution_count": 10,
   "id": "a69fba93-d373-4703-82b0-87f58d43e82f",
   "metadata": {},
   "outputs": [],
   "source": [
    "sampler = Sampler(options={\"shots\": 256})"
   ]
  },
  {
   "cell_type": "code",
   "execution_count": 12,
   "id": "4ef555bf-2676-4f75-a509-51fa20d9ec9e",
   "metadata": {},
   "outputs": [
    {
     "name": "stdout",
     "output_type": "stream",
     "text": [
      "Train acc: 0.8252427184466019\n",
      "Test acc: 0.8349514563106796\n"
     ]
    }
   ],
   "source": [
    "K_train = rbf_kernel(X_train_scaled)\n",
    "K_test = rbf_kernel(X_test_scaled, X_train_scaled)\n",
    "\n",
    "pegasos = PegasosQSVC(precomputed=True, C=1000, num_steps=100)\n",
    "pegasos.fit(K_train, y_train)\n",
    "print(\"Train acc:\", pegasos.score(K_train, y_train))\n",
    "print(\"Test acc:\", pegasos.score(K_test, y_test))"
   ]
  },
  {
   "cell_type": "code",
   "execution_count": null,
   "id": "5673de0a-da22-4593-b5c7-4352ee99c1f6",
   "metadata": {},
   "outputs": [],
   "source": []
  }
 ],
 "metadata": {
  "kernelspec": {
   "display_name": "Python 3 (ipykernel)",
   "language": "python",
   "name": "python3"
  },
  "language_info": {
   "codemirror_mode": {
    "name": "ipython",
    "version": 3
   },
   "file_extension": ".py",
   "mimetype": "text/x-python",
   "name": "python",
   "nbconvert_exporter": "python",
   "pygments_lexer": "ipython3",
   "version": "3.13.5"
  }
 },
 "nbformat": 4,
 "nbformat_minor": 5
}
