{
 "cells": [
  {
   "cell_type": "code",
   "execution_count": 3,
   "id": "b3e8b3c8-7c57-4d94-9821-b2f24e6079f9",
   "metadata": {},
   "outputs": [
    {
     "name": "stdout",
     "output_type": "stream",
     "text": [
      "Epoch 0: loss = 0.2070, accuracy = 0.7702\n",
      "Epoch 5: loss = 0.2001, accuracy = 0.7702\n",
      "Epoch 10: loss = 0.1974, accuracy = 0.7702\n",
      "Epoch 15: loss = 0.1961, accuracy = 0.7702\n",
      "Epoch 20: loss = 0.1955, accuracy = 0.7702\n",
      "\n",
      "Test accuracy: 0.7728\n"
     ]
    }
   ],
   "source": [
    "import pandas as pd\n",
    "import pennylane as qml\n",
    "from pennylane import numpy as np\n",
    "from sklearn.model_selection import train_test_split\n",
    "\n",
    "# === 1. Wczytaj dane z Excela ===\n",
    "df = pd.read_excel(\"SampleInfo_fixed_08_07_23.xlsx\", sheet_name=\"Sheet1\")\n",
    "\n",
    "# Wyodrębnij kolumny\n",
    "X_raw = df[[\"lib.size\"]].to_numpy()\n",
    "Y_raw = df[\"originalScoreBinary\"].apply(lambda x: 1 if x >= 0.5 else 0).to_numpy()\n",
    "\n",
    "# Normalizacja do zakresu [0, 1]\n",
    "X = (X_raw - X_raw.min()) / (X_raw.max() - X_raw.min())\n",
    "Y = Y_raw\n",
    "\n",
    "# Split danych\n",
    "X_train, X_test, Y_train, Y_test = train_test_split(X, Y, test_size=0.2, random_state=42)\n",
    "\n",
    "# === 2. PennyLane model ===\n",
    "n_qubits = 1\n",
    "dev = qml.device(\"default.qubit\", wires=n_qubits)\n",
    "\n",
    "def state_preparation(x):\n",
    "    qml.RX(x[0] * np.pi, wires=0)\n",
    "\n",
    "def variational_circuit(weights):\n",
    "    qml.RY(weights[0], wires=0)\n",
    "    qml.RZ(weights[1], wires=0)\n",
    "\n",
    "@qml.qnode(dev)\n",
    "def circuit(weights, x):\n",
    "    state_preparation(x)\n",
    "    variational_circuit(weights)\n",
    "    return qml.expval(qml.PauliZ(0))\n",
    "\n",
    "def variational_classifier(weights, x):\n",
    "    return circuit(weights, x)\n",
    "\n",
    "def square_loss(labels, predictions):\n",
    "    return np.mean((labels - predictions) ** 2)\n",
    "\n",
    "def accuracy(labels, predictions):\n",
    "    predictions = np.sign(predictions)\n",
    "    return np.mean(labels == (predictions > 0))\n",
    "\n",
    "def train(X, Y, epochs=25, lr=0.1):\n",
    "    weights = np.random.randn(2, requires_grad=True)\n",
    "    opt = qml.GradientDescentOptimizer(stepsize=lr)\n",
    "\n",
    "    for i in range(epochs):\n",
    "        def cost(w):\n",
    "            preds = np.array([variational_classifier(w, x) for x in X])\n",
    "            return square_loss(Y, preds)\n",
    "\n",
    "\n",
    "        weights = opt.step(cost, weights)\n",
    "\n",
    "        if i % 5 == 0:\n",
    "            preds = [variational_classifier(weights, x) for x in X]\n",
    "            acc = accuracy(Y, preds)\n",
    "            print(f\"Epoch {i}: loss = {cost(weights):.4f}, accuracy = {acc:.4f}\")\n",
    "\n",
    "    return weights\n",
    "\n",
    "# === 3. Uruchom trening ===\n",
    "trained_weights = train(X_train, Y_train)\n",
    "\n",
    "# === 4. Test na danych testowych ===\n",
    "predictions = [variational_classifier(trained_weights, x) for x in X_test]\n",
    "test_accuracy = accuracy(Y_test, predictions)\n",
    "print(f\"\\nTest accuracy: {test_accuracy:.4f}\")\n"
   ]
  },
  {
   "cell_type": "code",
   "execution_count": null,
   "id": "f8b46411-5706-4b28-a3d0-5ab9b3b8eae8",
   "metadata": {},
   "outputs": [],
   "source": []
  }
 ],
 "metadata": {
  "kernelspec": {
   "display_name": "Python [conda env:base] *",
   "language": "python",
   "name": "conda-base-py"
  },
  "language_info": {
   "codemirror_mode": {
    "name": "ipython",
    "version": 3
   },
   "file_extension": ".py",
   "mimetype": "text/x-python",
   "name": "python",
   "nbconvert_exporter": "python",
   "pygments_lexer": "ipython3",
   "version": "3.12.7"
  }
 },
 "nbformat": 4,
 "nbformat_minor": 5
}
